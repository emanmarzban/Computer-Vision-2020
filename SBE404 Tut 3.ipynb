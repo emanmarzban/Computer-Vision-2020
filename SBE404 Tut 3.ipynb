{
 "cells": [
  {
   "cell_type": "markdown",
   "metadata": {},
   "source": [
    "## Mar 24, 2020"
   ]
  },
  {
   "cell_type": "code",
   "execution_count": 1,
   "metadata": {},
   "outputs": [],
   "source": [
    "# import the necessary packages\n",
    "from os import listdir\n",
    "from os.path import isfile , join\n",
    "import numpy as np\n",
    "import matplotlib.pyplot as plt\n",
    "import matplotlib.image as mpimg\n",
    "import numpy as np\n",
    "from scipy import ndimage, signal, interpolate\n",
    "from skimage import filters\n",
    "import math\n",
    "import sys"
   ]
  },
  {
   "cell_type": "code",
   "execution_count": 2,
   "metadata": {},
   "outputs": [],
   "source": [
    "def rgb2gray(rgb_image):\n",
    "    return np.dot(rgb_image[...,:3], [0.299, 0.587, 0.114])"
   ]
  },
  {
   "cell_type": "code",
   "execution_count": 3,
   "metadata": {},
   "outputs": [],
   "source": [
    "def circ_replicate(array): #repeat put last as first, and first as last again (circ)\n",
    "    rows=len(array)\n",
    "    try:\n",
    "        columns=len(array[0])\n",
    "        #print(rows)\n",
    "        #print(columns)\n",
    "        arr_replicated=np.tile(array,(3,3)) # copy one more column and one more row\n",
    "        arr_replicated=arr_replicated[rows-1:2*rows+1, columns-1:2*columns+1]\n",
    "    except: #1D vectors\n",
    "        arr_replicated=np.tile(array,3) # copy one more column and one more row\n",
    "        arr_replicated=arr_replicated[rows-1:2*rows+1] # truncate extraPlus rows \n",
    "    \n",
    "    return arr_replicated"
   ]
  },
  {
   "cell_type": "code",
   "execution_count": 16,
   "metadata": {},
   "outputs": [
    {
     "name": "stdout",
     "output_type": "stream",
     "text": [
      "[[ 3  0  2  3  0]\n",
      " [-3  1  2 -3  1]\n",
      " [ 3  0  2  3  0]\n",
      " [-3  1  2 -3  1]]\n"
     ]
    }
   ],
   "source": [
    "#print(circ_replicate([1,2,-3])) #1,len-2(b4 last) prev and next, #1,len-1(last) prev only, \n",
    "#print(circ_replicate([[1,2,-3],[0,2,3]]))#[len(circ_replicate([[1,2,-3],[0,2,3]]))-1,:])\n",
    "print(circ_replicate([[1,2,-3],[0,2,3]])) #[x1, x2, x3], [y1, y2, y3]"
   ]
  },
  {
   "cell_type": "code",
   "execution_count": 5,
   "metadata": {},
   "outputs": [],
   "source": [
    "def get_4neighbors(pointsX, pointsY): #\n",
    "    pointsOut= np.array([[pointsX, pointsY], [pointsX-1, pointsY], [pointsX+1, pointsY],\\\n",
    "                         [pointsX, pointsY-1], [pointsX, pointsY+1]    ] )\n",
    "    return pointsOut"
   ]
  },
  {
   "cell_type": "code",
   "execution_count": 6,
   "metadata": {},
   "outputs": [],
   "source": [
    "def gaussian_Filter(sigma, shape):\n",
    "    filter=np.zeros(shape)\n",
    "    filter[1,1]=1\n",
    "    return ndimage.gaussian_filter(filter, sigma) "
   ]
  },
  {
   "cell_type": "code",
   "execution_count": 7,
   "metadata": {},
   "outputs": [],
   "source": [
    "def normalize(array, newMin, newMax):\n",
    "    minArr=array.min()\n",
    "    maxArr=array.max()\n",
    "    return ((array-minArr)/(maxArr-minArr))*(newMax-newMin)+newMin"
   ]
  },
  {
   "cell_type": "code",
   "execution_count": 8,
   "metadata": {},
   "outputs": [
    {
     "name": "stdout",
     "output_type": "stream",
     "text": [
      "[[1 2]\n",
      " [0 2]\n",
      " [2 2]\n",
      " [1 1]\n",
      " [1 3]]\n",
      "[[1 0 2 1 1]\n",
      " [2 2 2 1 3]]\n",
      "[5. 2. 8. 4. 0.]\n",
      "[5.]\n"
     ]
    }
   ],
   "source": [
    "#print(get_4neighbors(2, 3))\n",
    "#print(get_4neighbors(2, 3)[0,:])\n",
    "#print(np.array([[1,2,4], [3,4,2]]))\n",
    "#print(normalize(np.array([[1,2,-5], [-3,4,2]]), -1,0))\n",
    "#print(normalize(np.array([[1,2,-5], [-3,4,2]]), 0, -1))\n",
    "values = np.array([[  0.,   1.,   2.],\n",
    "       [  3.,   4.,   5.],\n",
    "       [  6.,   7.,   8.],\n",
    "       [  9.,  10.,  11.]])\n",
    "\n",
    "inds=np.array([[1, 2],  [0 ,2],  [2, 2],  [1 ,1],  [1, 3]])\n",
    "\n",
    "\n",
    "print(inds)\n",
    "print(np.transpose(inds))\n",
    "print(ndimage.map_coordinates(values,np.transpose(inds)))\n",
    "print(ndimage.map_coordinates(values, [[1],[2]]))\n",
    "\n",
    "#print((np.array([2,3])).shape)\n",
    "#np.array([[2,3], [1,3]])\n",
    "#np.concatenate([[2,3], [1,3]],axis=0)"
   ]
  },
  {
   "cell_type": "code",
   "execution_count": 9,
   "metadata": {},
   "outputs": [],
   "source": [
    "images_files = [ join(\"./images\" , f) for f in listdir(\"images\") if isfile(join(\"images\" , f)) ]\n",
    "images = [ mpimg.imread( f ) for f in images_files ]\n",
    "gray_images = [ rgb2gray( img ) for img in images ]"
   ]
  },
  {
   "cell_type": "code",
   "execution_count": 10,
   "metadata": {},
   "outputs": [],
   "source": [
    "def compute_energy(pointsX, pointsY, alpha, beta, gamma, grad_normalized): #compute continuity energy\n",
    "    #print(pointsX)\n",
    "    #print(pointsY)\n",
    "    newPointsX=np.zeros(pointsX.shape)\n",
    "    newPointsY=np.zeros(pointsY.shape)\n",
    "    grid_x, grid_y= np.mgrid[0:len(grad_normalized), 0:len(grad_normalized[0])]\n",
    "    print(grid_x.shape)\n",
    "    distance=0 #compute average distance \n",
    "    for ind in pointsX[1:len(pointsX)-1]: #range(len(pointsX)-2)=Equivalent:  \n",
    "        distance+=np.sqrt((pointsX[ind]-pointsX[ind+1]) ** 2+(pointsY[ind]-pointsY[ind+1]) ** 2)\n",
    "    \n",
    "    distance/=(len(pointsX)-2) # average contour distance \n",
    "    \n",
    "    for ind in pointsX[1:len(pointsX)-1]: #compute elastic energy VECTOR #cover all Core points\n",
    "        # having circular previous and circ next\n",
    "        #print(pointsX[ind])        \n",
    "        #if False: #block comment\n",
    "        elas_En=np.zeros(5) # For the Current contour point and its 4-neighbors\n",
    "        curv_En=np.zeros(5) # For the Current contour point and its 4-neighbors\n",
    "        Grad_En=np.zeros(5) # For the Current contour point and its 4-neighbors\n",
    "        \n",
    "        allpoints_4=get_4neighbors(pointsX[ind],pointsY[ind]) # retrieve neighbors\n",
    "        #print(allpoints_4)\n",
    "        Grad_En =  ndimage.map_coordinates(grad_normalized, np.transpose(allpoints_4))#spline\n",
    "        for neigh in range(len(allpoints_4)): #cover all neighbors           \n",
    "            elas_En[neigh]=distance-(np.sqrt((allpoints_4[neigh,0]-pointsX[ind-1]) ** 2+\\\n",
    "                                (allpoints_4[neigh,1]-pointsY[ind-1]) ** 2)) #neighbors\n",
    "            #print(allpoints_4[neigh,0],allpoints_4[neigh,1],pointsX[ind-1],pointsY[ind-1],\\\n",
    "            #     pointsX[ind+1],pointsY[ind+1])\n",
    "            #print(elas_En)\n",
    "            curv_En[neigh]=np.sqrt((2*allpoints_4[neigh,0]-pointsX[ind+1]-pointsX[ind-1]) **2 +\\\n",
    "                        (2*allpoints_4[neigh,1]-pointsY[ind+1]-pointsY[ind-1]) **2)            \n",
    "            \n",
    "        elas_En=alpha*elas_En\n",
    "        curv_En=beta*curv_En\n",
    "        Grad_En=gamma*Grad_En\n",
    "\n",
    "        total_En=elas_En+curv_En+Grad_En\n",
    "        indMin=np.argmin(total_En)\n",
    "        print(pointsX[ind], pointsY[ind])\n",
    "        newPointsX[ind]=allpoints_4[indMin,0]\n",
    "        newPointsY[ind]=allpoints_4[indMin,1]\n",
    "        \n",
    "        print(pointsX[ind], pointsY[ind])\n",
    "        print(newPointsX[ind], newPointsY[ind])\n",
    "\n",
    "        print(allpoints_4)\n",
    "        print(total_En) \n",
    "        print(indMin)\n",
    "        #print(len(grad_normalized))        \n",
    "        \n",
    "        #print('\\n')\n",
    "    #print(distance)\n",
    "    return newPointsX, newPointsY\n"
   ]
  },
  {
   "cell_type": "code",
   "execution_count": 11,
   "metadata": {
    "scrolled": true
   },
   "outputs": [
    {
     "data": {
      "image/png": "[encoded data removed]",
      "text/plain": [
       "<Figure size 432x288 with 1 Axes>"
      ]
     },
     "metadata": {},
     "output_type": "display_data"
    },
    {
     "name": "stdout",
     "output_type": "stream",
     "text": [
      "(816, 976)\n",
      "1 2\n",
      "1 2\n",
      "1.0 3.0\n",
      "[[1 2]\n",
      " [0 2]\n",
      " [2 2]\n",
      " [1 1]\n",
      " [1 3]]\n",
      "[2.92181747 3.80390436 2.35459718 3.80353668 2.35370662]\n",
      "4\n",
      "2 3\n",
      "2 3\n",
      "2.0 3.0\n",
      "[[2 3]\n",
      " [1 3]\n",
      " [3 3]\n",
      " [2 2]\n",
      " [2 4]]\n",
      "[0.23570226 2.04191848 1.42477505 2.04280904 1.42477505]\n",
      "0\n",
      "3 4\n",
      "3 4\n",
      "2.0 4.0\n",
      "[[3 4]\n",
      " [2 4]\n",
      " [4 4]\n",
      " [3 3]\n",
      " [3 5]]\n",
      "[3.62981481 2.97263117 4.48953657 2.97263117 4.48953657]\n",
      "1\n"
     ]
    }
   ],
   "source": [
    "img=gray_images[1];\n",
    "img_gFilter=signal.convolve2d(img, gaussian_Filter(0.3, (3,3)), mode='same')\n",
    "img_gradX=ndimage.sobel(img_gFilter,axis=0)\n",
    "img_gradY=ndimage.sobel(img_gFilter,axis=1)\n",
    "img_grad=np.hypot(img_gradX,img_gradY)\n",
    "img_grad_norm=-normalize(img_grad,0,1)# Normalization\n",
    "#print(img_grad)\n",
    "#print(img_grad_norm)\n",
    "\n",
    "r=230 #radius\n",
    "c=[450,400] #center\n",
    "theta=np.linspace(0, 2*np.pi, 200) # min, max, number of divisions\n",
    "x=c[0]+r*np.cos(theta)\n",
    "y=c[1]+r*np.sin(theta)\n",
    "plt.plot(x,y)\n",
    "plt.figure(1),plt.imshow(img_grad_norm, cmap='gray')\n",
    "plt.xticks([]), plt.yticks([])# hides the tick values on main axes\n",
    "ax=plt.gca()\n",
    "ax.contour((x,y)) #plots contours\n",
    "plt.show()\n",
    "\n",
    "##np.concatenate((np.transpose(x), np.transpose(y)))## ??\n",
    "iniContour=np.array(list(zip(x,y)))## \n",
    "#print(iniContour.shape)\n",
    "arr=np.array([[1, 2], [3, 4],[-3, 14]])\n",
    "#print(type(x))\n",
    "\n",
    "x_rep=circ_replicate([1, 2,3]) # circular repeat\n",
    "y_rep=circ_replicate([2,3,4]) # circular repeat\n",
    "#elastic_energy((1,2,3,1),(2,3,4,2)) #1.4+1.4+2.8=2.8*2=5.6, avg=1.8856\n",
    "newContour=compute_energy(x_rep,y_rep, 0.5, 0.8, 0.4,img_grad_norm) #1.4+1.4+2.8=2.8*2=5.6, avg=1.8856\n"
   ]
  },
  {
   "cell_type": "code",
   "execution_count": null,
   "metadata": {},
   "outputs": [],
   "source": [
    "def CV (contour, img, mu, nu, epison,step):\n",
    "\n",
    "    Drc = (epison / math.pi) / (epison*epison+ LSF*LSF)\n",
    "    Hea = 0.5*(1 + (2 / math.pi)*mat_math(contour/epison,\"atan\")) \n",
    "    Iy, Ix = np.gradient(LSF) \n",
    "    s = mat_math(Ix*Ix+Iy*Iy,\"sqrt\") \n",
    "    Nx = Ix / (s+0.000001) \n",
    "    Ny = Iy / (s+0.000001) \n",
    "    Mxx,Nxx =np.gradient(Nx) \n",
    "    Nyy,Myy =np.gradient(Ny) \n",
    "    cur = Nxx + Nyy \n",
    "    Length = nu*Drc*cur \n",
    "\n",
    "    Lap = cv2.Laplacian(LSF,-1) \n",
    "    Penalty = mu*(Lap - cur) \n",
    "\n",
    "    s1=Hea*img \n",
    "    s2=(1-Hea)*img \n",
    "    s3=1-Hea \n",
    "    C1 = s1.sum()/ Hea.sum() \n",
    "    C2 = s2.sum()/ s3.sum() \n",
    "    CVterm = Drc*(-1 * (img - C1)*(img - C1) + 1 * (img - C2)*(img - C2)) \n",
    "\n",
    "    LSF = LSF + step*(Length + Penalty + CVterm) \n",
    "    #plt.imshow(s, cmap ='gray'),plt.show() \n",
    "    return LSF "
   ]
  },
  {
   "cell_type": "code",
   "execution_count": null,
   "metadata": {},
   "outputs": [],
   "source": [
    "mu = 1 \n",
    "nu = 0.003 * 255 * 255 \n",
    "num = 20 \n",
    "epison = 1 \n",
    "step = 0.1 \n",
    "LSF=IniLSF \n",
    "for i in range(1,num):\n",
    "    LSF = CV(LSF, img, mu, nu, epison,step) \n",
    "    if i % 1 == 0:\n",
    "        plt.imshow(Image),plt.xticks([]), plt.yticks([])  \n",
    "        plt.contour(LSF,[0],colors='r',linewidth=2) \n",
    "        plt.draw(),plt.show(block=False),plt.pause(0.01) "
   ]
  },
  {
   "cell_type": "code",
   "execution_count": null,
   "metadata": {},
   "outputs": [],
   "source": [
    "def multi_view( images ):\n",
    "    images_count = len( images ) #count of images (list type)\n",
    "    fig = plt.figure(figsize=(10,20))\n",
    "    for row in range( images_count  ):\n",
    "        ax1 = fig.add_subplot( images_count , 1 , row + 1)\n",
    "        #ax1.imshow( images[ row ] )\n",
    "        ax1.imshow(images[ row ], cmap=plt.get_cmap('gray')) # default is viridis "
   ]
  },
  {
   "cell_type": "code",
   "execution_count": null,
   "metadata": {},
   "outputs": [],
   "source": [
    "dft_images=[np.fft.fft2(img) for img in gray_images] #2D fft\n",
    "dft_images_shifted=[np.fft.fft2(img) for img in dft_images] # shifted 2D fft\n",
    "\n",
    "#magnitude_spectrum = [np.log(np.abs(fshift+1)) for fshift in dft_images_shifted]\n",
    "dft_Mag= [np.sqrt(img.real**2 + img.imag**2) for img in dft_images_shifted]\n",
    "#dft_Phase= [np.arctan(img.imag/img.real) for img in magnitude_spectrum]\n",
    "magnitude_spectrum = [np.log(np.abs(fshift+1)) for fshift in dft_Mag]\n",
    "\n",
    "combinations=list(zip(gray_images,dft_Mag))\n",
    "[multi_view(setImg) for setImg in combinations]\n"
   ]
  },
  {
   "cell_type": "code",
   "execution_count": null,
   "metadata": {},
   "outputs": [],
   "source": []
  }
 ],
 "metadata": {
  "kernelspec": {
   "display_name": "Python 3",
   "language": "python",
   "name": "python3"
  },
  "language_info": {
   "codemirror_mode": {
    "name": "ipython",
    "version": 3
   },
   "file_extension": ".py",
   "mimetype": "text/x-python",
   "name": "python",
   "nbconvert_exporter": "python",
   "pygments_lexer": "ipython3",
   "version": "3.7.6"
  }
 },
 "nbformat": 4,
 "nbformat_minor": 2
}
