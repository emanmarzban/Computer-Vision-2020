{
 "cells": [
  {
   "cell_type": "markdown",
   "metadata": {},
   "source": [
    "### Import Libraries"
   ]
  },
  {
   "cell_type": "code",
   "execution_count": 2,
   "metadata": {},
   "outputs": [],
   "source": [
    "# import the necessary packages\n",
    "from os import listdir\n",
    "from os.path import isfile , join\n",
    "import numpy as np\n",
    "import matplotlib.pyplot as plt\n",
    "import matplotlib.image as mpimg\n",
    "import numpy as np"
   ]
  },
  {
   "cell_type": "markdown",
   "metadata": {},
   "source": [
    "### Let's make a function to convert RGB images to Grayscale"
   ]
  },
  {
   "cell_type": "code",
   "execution_count": 3,
   "metadata": {},
   "outputs": [],
   "source": [
    "def rgb2gray(rgb_image):\n",
    "    return np.dot(rgb_image[...,:3], [0.299, 0.587, 0.114])\n",
    "#images[0][0,2,:3] ##?? images[0][...,:] ## images[0][0,2,:2] ##"
   ]
  },
  {
   "cell_type": "markdown",
   "metadata": {},
   "source": [
    "### And a function to convert grayscale to binary images"
   ]
  },
  {
   "cell_type": "code",
   "execution_count": 4,
   "metadata": {},
   "outputs": [],
   "source": [
    "def binarize( gray_image , threshold ):\n",
    "    threshold = np.max( gray_image ) * threshold\n",
    "    return 1 * ( gray_image > threshold )"
   ]
  },
  {
   "cell_type": "markdown",
   "metadata": {},
   "source": [
    "### A function to show multiple images in a single figure"
   ]
  },
  {
   "cell_type": "code",
   "execution_count": 5,
   "metadata": {},
   "outputs": [],
   "source": [
    "def multi_view( images ):\n",
    "    images_count = len( images ) #count of images (list type)\n",
    "    fig = plt.figure(figsize=(10,20))\n",
    "    for row in range( images_count  ):\n",
    "        ax1 = fig.add_subplot( images_count , 1 , row + 1)\n",
    "        #ax1.imshow( images[ row ] )\n",
    "        ax1.imshow(images[ row ], cmap=plt.get_cmap('gray')) # default is viridis "
   ]
  },
  {
   "cell_type": "code",
   "execution_count": 6,
   "metadata": {},
   "outputs": [],
   "source": [
    "def view( image ):\n",
    "    plt.figure(figsize=(10,20))\n",
    "    #plt.imshow( image )\n",
    "    plt.imshow(image, cmap=plt.get_cmap('gray'), vmin=0, vmax=1)"
   ]
  },
  {
   "cell_type": "markdown",
   "metadata": {},
   "source": [
    "## 1. Load Images"
   ]
  },
  {
   "cell_type": "code",
   "execution_count": 7,
   "metadata": {},
   "outputs": [
    {
     "name": "stdout",
     "output_type": "stream",
     "text": "<class 'list'>\n393\n"
    },
    {
     "data": {
      "text/plain": "7"
     },
     "execution_count": 7,
     "metadata": {},
     "output_type": "execute_result"
    }
   ],
   "source": [
    "\n",
    "# Get file names in current directory\n",
    "images_files = [ join(\"./images\" , f) for f in listdir(\"images\") if isfile(join(\"images\" , f)) ]\n",
    "\n",
    "images = [ mpimg.imread( f ) for f in images_files ]\n",
    "print(type(images))\n",
    "print(len(images[0]))\n",
    "len(images)"
   ]
  },
  {
   "cell_type": "code",
   "execution_count": 8,
   "metadata": {},
   "outputs": [
    {
     "data": {
      "text/plain": "7"
     },
     "execution_count": 8,
     "metadata": {},
     "output_type": "execute_result"
    }
   ],
   "source": [
    "len(images) # length of the list; six images"
   ]
  },
  {
   "cell_type": "code",
   "execution_count": 9,
   "metadata": {},
   "outputs": [
    {
     "name": "stdout",
     "output_type": "stream",
     "text": "Number of rows is len(images[1]) and is equal to:        265\nNumber of columns is len(images[1][0]) and is equal to:  264\n"
    }
   ],
   "source": [
    "print('Number of rows is len(images[1]) and is equal to:       ',len(images[1])) # Num rows\n",
    "print('Number of columns is len(images[1][0]) and is equal to: ',len(images[1][0])) # Num columns"
   ]
  },
  {
   "cell_type": "markdown",
   "metadata": {},
   "source": [
    "## 2. Make Grayscale Images"
   ]
  },
  {
   "cell_type": "code",
   "execution_count": 16,
   "metadata": {},
   "outputs": [
    {
     "data": {
      "text/plain": "array([[0, 1, 0, ..., 1, 1, 1],\n       [1, 0, 1, ..., 1, 1, 1],\n       [0, 1, 0, ..., 1, 1, 1],\n       ...,\n       [0, 0, 0, ..., 1, 1, 1],\n       [0, 0, 0, ..., 1, 1, 1],\n       [0, 0, 0, ..., 1, 1, 1]])"
     },
     "execution_count": 16,
     "metadata": {},
     "output_type": "execute_result"
    }
   ],
   "source": [
    "gray_images = [ rgb2gray( img ) for img in images ]\n",
    "#gray_images[0]>.3"
   ]
  },
  {
   "cell_type": "markdown",
   "metadata": {},
   "source": [
    "## 3. Make Binary Images"
   ]
  },
  {
   "cell_type": "code",
   "execution_count": 11,
   "metadata": {},
   "outputs": [],
   "source": [
    "binary_images = [ binarize( gray_img , 0.5 ) for gray_img in gray_images ]\n"
   ]
  },
  {
   "cell_type": "markdown",
   "metadata": {},
   "source": [
    "## 4. View Images"
   ]
  },
  {
   "cell_type": "code",
   "execution_count": 12,
   "metadata": {},
   "outputs": [],
   "source": [
    "#X1 = ('a','b','c')\n",
    "#X2 = (1,2,3)\n",
    "#X3=[(0,1),(10,1),(5,1)]\n",
    "#Y = zip(X1, X2,X3) #tuple\n",
    "#YList=list(zip(X1, X2,X3))\n",
    "#print(Y) ##\n",
    "#print(YList)\n",
    "#print(Y.__sizeof__())\n",
    "#print(YList.__sizeof__())"
   ]
  },
  {
   "cell_type": "code",
   "execution_count": 13,
   "metadata": {},
   "outputs": [],
   "source": [
    "combinations = list( zip( images , gray_images , binary_images ))\n",
    "#print(len(combinations)) #Number of sets of images 6\n",
    "#print(len(combinations[0])) #Number of images per set Note the print command\n",
    "#print(len(combinations[0])) #Number of images per set; without print; it displays the last call only\n",
    "#[multi_view( comb ) for comb in combinations]\n",
    "#multi_view(combinations[0])"
   ]
  },
  {
   "cell_type": "code",
   "execution_count": 14,
   "metadata": {},
   "outputs": [
    {
     "name": "stdout",
     "output_type": "stream",
     "text": "[[ 1  2  3]\n [ 4  5  6]\n [-1 -2 -3]\n [-4 -5 -6]]\n[[ 3  1  2]\n [ 6  4  5]\n [-3 -1 -2]\n [-6 -4 -5]]\n[[ 2  3  1]\n [ 5  6  4]\n [-2 -3 -1]\n [-5 -6 -4]]\n[[ 4  5  6]\n [-1 -2 -3]\n [-4 -5 -6]\n [ 1  2  3]]\n"
    }
   ],
   "source": [
    "#x = np.arange(10) #0:9\n",
    "#x2 = np.reshape(x, (2,5)) #0:4, 5:9\n",
    "x3=np.array([(1,2,3),(4,5,6),(-1,-2,-3),(-4,-5,-6)])\n",
    "print(x3)\n",
    "#print(len(x3)) # 4 rows\n",
    "#print(len(x3[0]))# 3 columns\n",
    "print(np.roll(x3,1,1)) # Right shift by one for Columns\n",
    "#print(np.roll(x3,1,0)) # Down shift by one for Rows\n",
    "#print(np.roll(x3,1,2)) # ERROR..Why\n",
    "print(np.roll(x3,-1,1)) # Left shift by one for Columns\n",
    "print(np.roll(x3,-1,0)) # Up shift by one for Rows"
   ]
  }
 ],
 "metadata": {
  "kernelspec": {
   "display_name": "Python 3",
   "language": "python",
   "name": "python3"
  },
  "language_info": {
   "codemirror_mode": {
    "name": "ipython",
    "version": 3
   },
   "file_extension": ".py",
   "mimetype": "text/x-python",
   "name": "python",
   "nbconvert_exporter": "python",
   "pygments_lexer": "ipython3",
   "version": "3.7.4-final"
  }
 },
 "nbformat": 4,
 "nbformat_minor": 2
}